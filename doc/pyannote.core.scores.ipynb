{
 "metadata": {
  "name": "",
  "signature": "sha256:ac43010858c130b1513a5bb5a5cbc272f9d6631da9eb9fb5c286f8263fcc16d0"
 },
 "nbformat": 3,
 "nbformat_minor": 0,
 "worksheets": [
  {
   "cells": [
    {
     "cell_type": "code",
     "collapsed": false,
     "input": [
      "%pylab inline\n",
      "from pyannote.core.notebook import set_notebook_crop"
     ],
     "language": "python",
     "metadata": {},
     "outputs": [
      {
       "output_type": "stream",
       "stream": "stdout",
       "text": [
        "Populating the interactive namespace from numpy and matplotlib\n"
       ]
      }
     ],
     "prompt_number": 1
    },
    {
     "cell_type": "heading",
     "level": 1,
     "metadata": {},
     "source": [
      "Scores (`pyannote.core.scores.Scores`)"
     ]
    },
    {
     "cell_type": "code",
     "collapsed": false,
     "input": [
      "from pyannote.core import Scores"
     ],
     "language": "python",
     "metadata": {},
     "outputs": [],
     "prompt_number": 2
    },
    {
     "cell_type": "markdown",
     "metadata": {},
     "source": [
      "**`Scores`** instances are used to describe classification scores.\n",
      "For instance, one can use a **`Scores`** to store the result of speaker identification approach applied on an episode of *The Big Bang Theory* TV series."
     ]
    },
    {
     "cell_type": "code",
     "collapsed": false,
     "input": [
      "scores = Scores(\n",
      "    uri='TheBigBangTheory.Season01.Episode01', \n",
      "    modality='speaker'\n",
      ")"
     ],
     "language": "python",
     "metadata": {},
     "outputs": [],
     "prompt_number": 3
    },
    {
     "cell_type": "markdown",
     "metadata": {},
     "source": [
      "For instance, to represent a dialogue between Penny and Leonard, we could do the following:"
     ]
    },
    {
     "cell_type": "code",
     "collapsed": false,
     "input": [
      "from pyannote.core import Segment\n",
      "scores[Segment(3, 5), '_', 'Penny'] = 0.8\n",
      "scores[Segment(3, 5), '_', 'Leonard'] = 0.15\n",
      "scores[Segment(3, 5), '_', 'Sheldon'] = 0.05\n",
      "scores[Segment(5.5, 7), '_', 'Penny'] = 0.4\n",
      "scores[Segment(5.5, 7), '_', 'Leonard'] = 0.5\n",
      "scores[Segment(5.5, 7), '_', 'Sheldon'] = 0.1\n",
      "scores[Segment(8, 10), '_', 'Penny'] = 0.4\n",
      "scores[Segment(8, 10), '_', 'Leonard'] = 0.25\n",
      "scores[Segment(8, 10), '_', 'Sheldon'] = 0.35\n",
      "scores"
     ],
     "language": "python",
     "metadata": {},
     "outputs": [
      {
       "metadata": {},
       "output_type": "pyout",
       "png": "[encoded data removed]",
       "prompt_number": 4,
       "text": [
        "<pyannote.core.scores.Scores at 0x1065cac90>"
       ]
      }
     ],
     "prompt_number": 4
    },
    {
     "cell_type": "code",
     "collapsed": false,
     "input": [
      "scores.to_annotation()"
     ],
     "language": "python",
     "metadata": {},
     "outputs": [
      {
       "metadata": {},
       "output_type": "pyout",
       "png": "[encoded data removed]",
       "prompt_number": 5,
       "text": [
        "<pyannote.core.annotation.Annotation at 0x10441ef10>"
       ]
      }
     ],
     "prompt_number": 5
    },
    {
     "cell_type": "code",
     "collapsed": false,
     "input": [
      "annotation.get_tracks(Segment(8, 10))"
     ],
     "language": "python",
     "metadata": {},
     "outputs": []
    },
    {
     "cell_type": "markdown",
     "metadata": {},
     "source": [
      "Check whether a given track exists"
     ]
    },
    {
     "cell_type": "code",
     "collapsed": false,
     "input": [
      "annotation.has_track(Segment(8, 10), '---')"
     ],
     "language": "python",
     "metadata": {},
     "outputs": []
    },
    {
     "cell_type": "markdown",
     "metadata": {},
     "source": [
      "One can re-initialize tracks as incrementing integer using **retrack** method. This also makes sure that no two tracks have the same identifier."
     ]
    },
    {
     "cell_type": "code",
     "collapsed": false,
     "input": [
      "for segment, track in annotation.retrack().itertracks():\n",
      "    print segment, track"
     ],
     "language": "python",
     "metadata": {},
     "outputs": []
    },
    {
     "cell_type": "heading",
     "level": 2,
     "metadata": {},
     "source": [
      "Dealing with labels"
     ]
    },
    {
     "cell_type": "markdown",
     "metadata": {},
     "source": [
      "Get (sorted) list of unique labels"
     ]
    },
    {
     "cell_type": "code",
     "collapsed": false,
     "input": [
      "annotation.labels()"
     ],
     "language": "python",
     "metadata": {},
     "outputs": []
    },
    {
     "cell_type": "markdown",
     "metadata": {},
     "source": [
      "List of labels for a given segment. Read the help message for more options."
     ]
    },
    {
     "cell_type": "code",
     "collapsed": false,
     "input": [
      "annotation.get_labels(Segment(8, 10))"
     ],
     "language": "python",
     "metadata": {},
     "outputs": []
    },
    {
     "cell_type": "markdown",
     "metadata": {},
     "source": [
      "One may want to be more precise on the identiy of each speaker and replace character names by actor names. We can use **translate** to do just that:"
     ]
    },
    {
     "cell_type": "code",
     "collapsed": false,
     "input": [
      "mapping = {'Penny': 'Kaley Cuoco', 'Sheldon': 'Jim Parsons', 'Leonard': 'Johnny Galecki'}\n",
      "annotation.translate(mapping)"
     ],
     "language": "python",
     "metadata": {},
     "outputs": []
    },
    {
     "cell_type": "code",
     "collapsed": false,
     "input": [
      "# this also works\n",
      "annotation % mapping"
     ],
     "language": "python",
     "metadata": {},
     "outputs": []
    },
    {
     "cell_type": "heading",
     "level": 2,
     "metadata": {},
     "source": [
      "Cropping and subsetting"
     ]
    },
    {
     "cell_type": "markdown",
     "metadata": {},
     "source": [
      "The **crop** method works the same way it does for [timeline](pyannote.core.timeline.ipynb) instances."
     ]
    },
    {
     "cell_type": "code",
     "collapsed": false,
     "input": [
      "annotation"
     ],
     "language": "python",
     "metadata": {},
     "outputs": []
    },
    {
     "cell_type": "code",
     "collapsed": false,
     "input": [
      "segment = Segment(6, 9)\n",
      "segment"
     ],
     "language": "python",
     "metadata": {},
     "outputs": []
    },
    {
     "cell_type": "code",
     "collapsed": false,
     "input": [
      "annotation.crop(segment)"
     ],
     "language": "python",
     "metadata": {},
     "outputs": []
    },
    {
     "cell_type": "markdown",
     "metadata": {},
     "source": [
      "The **subset** method allows to extract annotations based on their labels."
     ]
    },
    {
     "cell_type": "code",
     "collapsed": false,
     "input": [
      "male_characters = set(['Sheldon', 'Leonard'])\n",
      "annotation.subset(male_characters)"
     ],
     "language": "python",
     "metadata": {},
     "outputs": []
    },
    {
     "cell_type": "code",
     "collapsed": false,
     "input": [
      "# all but male characters\n",
      "annotation.subset(male_characters, invert=True)"
     ],
     "language": "python",
     "metadata": {},
     "outputs": []
    },
    {
     "cell_type": "heading",
     "level": 2,
     "metadata": {},
     "source": [
      "Analyzing annotations"
     ]
    },
    {
     "cell_type": "code",
     "collapsed": false,
     "input": [
      "# timeline made of Penny's segments\n",
      "annotation.label_timeline('Penny')"
     ],
     "language": "python",
     "metadata": {},
     "outputs": []
    },
    {
     "cell_type": "code",
     "collapsed": false,
     "input": [
      "# total Penny's speech duration\n",
      "print 'Penny spoke during %f seconds' % annotation.label_duration('Penny')"
     ],
     "language": "python",
     "metadata": {},
     "outputs": []
    },
    {
     "cell_type": "code",
     "collapsed": false,
     "input": [
      "# label chart based on their duration\n",
      "annotation.chart()"
     ],
     "language": "python",
     "metadata": {},
     "outputs": []
    },
    {
     "cell_type": "code",
     "collapsed": false,
     "input": [
      "# who is the biggest speaker?\n",
      "annotation.argmax()"
     ],
     "language": "python",
     "metadata": {},
     "outputs": []
    },
    {
     "cell_type": "heading",
     "level": 2,
     "metadata": {},
     "source": [
      "Other operations"
     ]
    },
    {
     "cell_type": "markdown",
     "metadata": {},
     "source": [
      "**co_iter** works the same way as for [timeline](pyannote.core.timeline.ipynb) except it iterates over overlapping (segment, track) tuples."
     ]
    },
    {
     "cell_type": "heading",
     "level": 2,
     "metadata": {},
     "source": [
      "Need help?"
     ]
    },
    {
     "cell_type": "markdown",
     "metadata": {},
     "source": [
      "You can always try the following...  \n",
      "Who knows? It might give you the information you are looking for!"
     ]
    }
   ],
   "metadata": {}
  }
 ]
}