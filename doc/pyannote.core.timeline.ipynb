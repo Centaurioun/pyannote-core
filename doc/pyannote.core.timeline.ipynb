{
 "metadata": {
  "name": "",
  "signature": "sha256:fcfc25daecf48fefb64137a273ce8cffa7ee7f2e7702fbcb7ea7b2288c284058"
 },
 "nbformat": 3,
 "nbformat_minor": 0,
 "worksheets": [
  {
   "cells": [
    {
     "cell_type": "code",
     "collapsed": true,
     "input": [
      "%pylab inline\n",
      "from pyannote.core.notebook import set_notebook_crop"
     ],
     "language": "python",
     "metadata": {},
     "outputs": [
      {
       "output_type": "stream",
       "stream": "stdout",
       "text": [
        "Populating the interactive namespace from numpy and matplotlib\n"
       ]
      }
     ],
     "prompt_number": 1
    },
    {
     "cell_type": "heading",
     "level": 1,
     "metadata": {},
     "source": [
      "Timeline (`pyannote.core.timeline.Timeline`)"
     ]
    },
    {
     "cell_type": "code",
     "collapsed": false,
     "input": [
      "from pyannote.core import Timeline"
     ],
     "language": "python",
     "metadata": {},
     "outputs": [],
     "prompt_number": 2
    },
    {
     "cell_type": "markdown",
     "metadata": {},
     "source": [
      "**`Timeline`** instances are used to describe sets of temporal fragments (e.g. of an audio file).  \n",
      "One can optionally store an identifier of the associated multimedia document using **`uri`** keyword argument. "
     ]
    },
    {
     "cell_type": "code",
     "collapsed": false,
     "input": [
      "timeline = Timeline(uri='MyAudioFile')"
     ],
     "language": "python",
     "metadata": {},
     "outputs": [],
     "prompt_number": 3
    },
    {
     "cell_type": "markdown",
     "metadata": {},
     "source": [
      "Temporal fragments can be added to the timeline in any order and may be overlapping."
     ]
    },
    {
     "cell_type": "code",
     "collapsed": false,
     "input": [
      "from pyannote.core import Segment\n",
      "timeline.add(Segment(6, 8))\n",
      "timeline.add(Segment(0.5, 3))\n",
      "timeline.add(Segment(8.5, 10))\n",
      "timeline.add(Segment(1, 4))\n",
      "timeline.add(Segment(5, 7))\n",
      "timeline.add(Segment(7, 8))"
     ],
     "language": "python",
     "metadata": {},
     "outputs": [],
     "prompt_number": 4
    },
    {
     "cell_type": "markdown",
     "metadata": {},
     "source": [
      "They are automatically sorted internally (by start time first)."
     ]
    },
    {
     "cell_type": "code",
     "collapsed": false,
     "input": [
      "for segment in timeline:\n",
      "    print segment"
     ],
     "language": "python",
     "metadata": {},
     "outputs": [
      {
       "output_type": "stream",
       "stream": "stdout",
       "text": [
        "[0.500 --> 3.000]\n",
        "[1.000 --> 4.000]\n",
        "[5.000 --> 7.000]\n",
        "[6.000 --> 8.000]\n",
        "[7.000 --> 8.000]\n",
        "[8.500 --> 10.000]\n"
       ]
      }
     ],
     "prompt_number": 5
    },
    {
     "cell_type": "code",
     "collapsed": false,
     "input": [
      "print \"Timeline contains %d segments\" % len(timeline)\n",
      "print \"The second segment of timeline is %s\" % (str(timeline[1]))"
     ],
     "language": "python",
     "metadata": {},
     "outputs": [
      {
       "output_type": "stream",
       "stream": "stdout",
       "text": [
        "Timeline contains 6 segments\n",
        "The second segment of timeline is [1.000 --> 4.000]\n"
       ]
      }
     ],
     "prompt_number": 6
    },
    {
     "cell_type": "markdown",
     "metadata": {},
     "source": [
      "One can visualize **`Timeline`** instances in IPython Notebook."
     ]
    },
    {
     "cell_type": "code",
     "collapsed": false,
     "input": [
      "timeline"
     ],
     "language": "python",
     "metadata": {},
     "outputs": [
      {
       "metadata": {},
       "output_type": "pyout",
       "png": "[encoded data removed]",
       "prompt_number": 7,
       "text": [
        "<Timeline(uri=MyAudioFile, segments=[<Segment(0.5, 3)>, <Segment(1, 4)>, <Segment(5, 7)>, <Segment(6, 8)>, <Segment(7, 8)>, <Segment(8.5, 10)>])>"
       ]
      }
     ],
     "prompt_number": 7
    },
    {
     "cell_type": "heading",
     "level": 2,
     "metadata": {},
     "source": [
      "Coverage, extent and gaps"
     ]
    },
    {
     "cell_type": "markdown",
     "metadata": {},
     "source": [
      "The **extent** of a timeline is the segment of minimum duration that contains every segments of the timeline."
     ]
    },
    {
     "cell_type": "code",
     "collapsed": false,
     "input": [
      "timeline.extent()"
     ],
     "language": "python",
     "metadata": {},
     "outputs": [
      {
       "metadata": {},
       "output_type": "pyout",
       "png": "[encoded data removed]",
       "prompt_number": 8,
       "text": [
        "<Segment(0.5, 10)>"
       ]
      }
     ],
     "prompt_number": 8
    },
    {
     "cell_type": "markdown",
     "metadata": {},
     "source": [
      "The **coverage** of a timeline is the timeline with the minimum number of segments with exactly the same time span as the original timeline."
     ]
    },
    {
     "cell_type": "code",
     "collapsed": false,
     "input": [
      "timeline.coverage()"
     ],
     "language": "python",
     "metadata": {},
     "outputs": [
      {
       "metadata": {},
       "output_type": "pyout",
       "png": "[encoded data removed]",
       "prompt_number": 9,
       "text": [
        "<Timeline(uri=MyAudioFile, segments=[<Segment(0.5, 4)>, <Segment(5, 8)>, <Segment(8.5, 10)>])>"
       ]
      }
     ],
     "prompt_number": 9
    },
    {
     "cell_type": "markdown",
     "metadata": {},
     "source": [
      "One can also retrieve **gaps** in a timeline."
     ]
    },
    {
     "cell_type": "code",
     "collapsed": false,
     "input": [
      "timeline.gaps()"
     ],
     "language": "python",
     "metadata": {},
     "outputs": [
      {
       "metadata": {},
       "output_type": "pyout",
       "png": "[encoded data removed]",
       "prompt_number": 10,
       "text": [
        "<Timeline(uri=MyAudioFile, segments=[<Segment(4, 5)>, <Segment(8, 8.5)>])>"
       ]
      }
     ],
     "prompt_number": 10
    },
    {
     "cell_type": "code",
     "collapsed": false,
     "input": [
      "timeline.gaps(focus=Segment(0, 10.5))"
     ],
     "language": "python",
     "metadata": {},
     "outputs": [
      {
       "metadata": {},
       "output_type": "pyout",
       "png": "[encoded data removed]",
       "prompt_number": 11,
       "text": [
        "<Timeline(uri=MyAudioFile, segments=[<Segment(0, 0.5)>, <Segment(4, 5)>, <Segment(8, 8.5)>, <Segment(10, 10.5)>])>"
       ]
      }
     ],
     "prompt_number": 11
    },
    {
     "cell_type": "heading",
     "level": 2,
     "metadata": {},
     "source": [
      "Cropping"
     ]
    },
    {
     "cell_type": "markdown",
     "metadata": {},
     "source": [
      "Using the **crop** method, it is possible to select a subpart of timeline."
     ]
    },
    {
     "cell_type": "code",
     "collapsed": false,
     "input": [
      "selection = Segment(3,7)\n",
      "selection"
     ],
     "language": "python",
     "metadata": {},
     "outputs": [
      {
       "metadata": {},
       "output_type": "pyout",
       "png": "[encoded data removed]",
       "prompt_number": 12,
       "text": [
        "<Segment(3, 7)>"
       ]
      }
     ],
     "prompt_number": 12
    },
    {
     "cell_type": "code",
     "collapsed": false,
     "input": [
      "timeline"
     ],
     "language": "python",
     "metadata": {},
     "outputs": [
      {
       "metadata": {},
       "output_type": "pyout",
       "png": "[encoded data removed]",
       "prompt_number": 13,
       "text": [
        "<Timeline(uri=MyAudioFile, segments=[<Segment(0.5, 3)>, <Segment(1, 4)>, <Segment(5, 7)>, <Segment(6, 8)>, <Segment(7, 8)>, <Segment(8.5, 10)>])>"
       ]
      }
     ],
     "prompt_number": 13
    },
    {
     "cell_type": "markdown",
     "metadata": {},
     "source": [
      "In **intersection** mode, segments are cut in half if needed."
     ]
    },
    {
     "cell_type": "code",
     "collapsed": false,
     "input": [
      "timeline.crop(selection, mode='intersection')"
     ],
     "language": "python",
     "metadata": {},
     "outputs": [
      {
       "metadata": {},
       "output_type": "pyout",
       "png": "[encoded data removed]",
       "prompt_number": 14,
       "text": [
        "<Timeline(uri=MyAudioFile, segments=[<Segment(3, 4)>, <Segment(5, 7)>, <Segment(6, 7)>])>"
       ]
      }
     ],
     "prompt_number": 14
    },
    {
     "cell_type": "markdown",
     "metadata": {},
     "source": [
      "In **strict** mode, only segments fully included in selection are kept."
     ]
    },
    {
     "cell_type": "code",
     "collapsed": false,
     "input": [
      "timeline.crop(selection, mode='strict')"
     ],
     "language": "python",
     "metadata": {},
     "outputs": [
      {
       "metadata": {},
       "output_type": "pyout",
       "png": "[encoded data removed]",
       "prompt_number": 15,
       "text": [
        "<Timeline(uri=MyAudioFile, segments=[<Segment(5, 7)>])>"
       ]
      }
     ],
     "prompt_number": 15
    },
    {
     "cell_type": "markdown",
     "metadata": {},
     "source": [
      "In **loose** mode, any segment with a non-empty intersection is kept unchanged even though it starts before or end after the selection."
     ]
    },
    {
     "cell_type": "code",
     "collapsed": false,
     "input": [
      "timeline.crop(selection, mode='loose')"
     ],
     "language": "python",
     "metadata": {},
     "outputs": [
      {
       "metadata": {},
       "output_type": "pyout",
       "png": "[encoded data removed]",
       "prompt_number": 16,
       "text": [
        "<Timeline(uri=MyAudioFile, segments=[<Segment(1, 4)>, <Segment(5, 7)>, <Segment(6, 8)>])>"
       ]
      }
     ],
     "prompt_number": 16
    },
    {
     "cell_type": "heading",
     "level": 2,
     "metadata": {},
     "source": [
      "Union of timeline"
     ]
    },
    {
     "cell_type": "markdown",
     "metadata": {},
     "source": [
      "The **update** (in place) and **union** (copy) methods can be used to combine two timelines."
     ]
    },
    {
     "cell_type": "code",
     "collapsed": false,
     "input": [
      "set_notebook_crop(Segment(0, 6))\n",
      "first_timeline = Timeline([Segment(0, 1), Segment(2, 3), Segment(4, 5)])\n",
      "first_timeline"
     ],
     "language": "python",
     "metadata": {},
     "outputs": [
      {
       "metadata": {},
       "output_type": "pyout",
       "png": "[encoded data removed]",
       "prompt_number": 17,
       "text": [
        "<Timeline(uri=None, segments=[<Segment(0, 1)>, <Segment(2, 3)>, <Segment(4, 5)>])>"
       ]
      }
     ],
     "prompt_number": 17
    },
    {
     "cell_type": "code",
     "collapsed": false,
     "input": [
      "second_timeline = Timeline([Segment(1.5, 4.5)])\n",
      "second_timeline"
     ],
     "language": "python",
     "metadata": {},
     "outputs": [
      {
       "metadata": {},
       "output_type": "pyout",
       "png": "[encoded data removed]",
       "prompt_number": 18,
       "text": [
        "<Timeline(uri=None, segments=[<Segment(1.5, 4.5)>])>"
       ]
      }
     ],
     "prompt_number": 18
    },
    {
     "cell_type": "code",
     "collapsed": false,
     "input": [
      "new_timeline = first_timeline.union(second_timeline)\n",
      "new_timeline"
     ],
     "language": "python",
     "metadata": {},
     "outputs": [
      {
       "metadata": {},
       "output_type": "pyout",
       "png": "[encoded data removed]",
       "prompt_number": 19,
       "text": [
        "<Timeline(uri=None, segments=[<Segment(0, 1)>, <Segment(1.5, 4.5)>, <Segment(2, 3)>, <Segment(4, 5)>])>"
       ]
      }
     ],
     "prompt_number": 19
    },
    {
     "cell_type": "heading",
     "level": 2,
     "metadata": {},
     "source": [
      "Intersection of timelines"
     ]
    },
    {
     "cell_type": "code",
     "collapsed": false,
     "input": [
      "second_timeline.crop(first_timeline)"
     ],
     "language": "python",
     "metadata": {},
     "outputs": [
      {
       "metadata": {},
       "output_type": "pyout",
       "png": "[encoded data removed]",
       "prompt_number": 20,
       "text": [
        "<Timeline(uri=None, segments=[<Segment(2, 3)>, <Segment(4, 4.5)>])>"
       ]
      }
     ],
     "prompt_number": 20
    },
    {
     "cell_type": "markdown",
     "metadata": {},
     "source": [
      "**co_iter** method allow to iterator over pairs of intersecting segments."
     ]
    },
    {
     "cell_type": "code",
     "collapsed": false,
     "input": [
      "for s_first, s_second in first_timeline.co_iter(second_timeline):\n",
      "    print s_first, s_second"
     ],
     "language": "python",
     "metadata": {},
     "outputs": [
      {
       "output_type": "stream",
       "stream": "stdout",
       "text": [
        "[2.000 --> 3.000] [1.500 --> 4.500]\n",
        "[4.000 --> 5.000] [1.500 --> 4.500]\n"
       ]
      }
     ],
     "prompt_number": 21
    },
    {
     "cell_type": "heading",
     "level": 2,
     "metadata": {},
     "source": [
      "Need help?"
     ]
    },
    {
     "cell_type": "markdown",
     "metadata": {},
     "source": [
      "You can always try the following...  \n",
      "Who knows? It might give you the information you are looking for!"
     ]
    },
    {
     "cell_type": "code",
     "collapsed": false,
     "input": [
      "help(Timeline)"
     ],
     "language": "python",
     "metadata": {},
     "outputs": [
      {
       "output_type": "stream",
       "stream": "stdout",
       "text": [
        "Help on class Timeline in module pyannote.core.timeline:\n",
        "\n",
        "class Timeline(__builtin__.object)\n",
        " |  Ordered set of segments.\n",
        " |  \n",
        " |  A timeline can be seen as an ordered set of non-empty segments (Segment).\n",
        " |  Segments can overlap -- though adding an already exisiting segment to a\n",
        " |  timeline does nothing.\n",
        " |  \n",
        " |  Parameters\n",
        " |  ----------\n",
        " |  segments : Segment iterator, optional\n",
        " |      initial set of segments\n",
        " |  uri : string, optional\n",
        " |      name of segmented resource\n",
        " |  \n",
        " |  Returns\n",
        " |  -------\n",
        " |  timeline : Timeline\n",
        " |      New timeline\n",
        " |  \n",
        " |  Examples\n",
        " |  --------\n",
        " |  Create a new empty timeline\n",
        " |  \n",
        " |      >>> timeline = Timeline()\n",
        " |      >>> if not timeline:\n",
        " |      ...    print \"Timeline is empty.\"\n",
        " |      Timeline is empty.\n",
        " |  \n",
        " |  Add one segment (+=)\n",
        " |  \n",
        " |      >>> segment = Segment(0, 1)\n",
        " |      >>> timeline.add(segment)\n",
        " |      >>> if len(timeline) == 1:\n",
        " |      ...    print \"Timeline contains only one segment.\"\n",
        " |      Timeline contains only one segment.\n",
        " |  \n",
        " |  Add all segments from another timeline\n",
        " |  \n",
        " |      >>> other_timeline = Timeline([Segment(0.5, 3), Segment(6, 8)])\n",
        " |      >>> timeline.update(other_timeline)\n",
        " |  \n",
        " |  Get timeline extent, coverage & duration\n",
        " |  \n",
        " |      >>> extent = timeline.extent()\n",
        " |      >>> print extent\n",
        " |      [0 --> 8]\n",
        " |      >>> coverage = timeline.coverage()\n",
        " |      >>> print coverage\n",
        " |      [\n",
        " |         [0 --> 3]\n",
        " |         [6 --> 8]\n",
        " |      ]\n",
        " |      >>> duration = timeline.duration()\n",
        " |      >>> print \"Timeline covers a total of %g seconds.\" % duration\n",
        " |      Timeline covers a total of 5 seconds.\n",
        " |  \n",
        " |  Iterate over (sorted) timeline segments\n",
        " |  \n",
        " |      >>> for segment in timeline:\n",
        " |      ...    print segment\n",
        " |      [0 --> 1]\n",
        " |      [0.5 --> 3]\n",
        " |      [6 --> 8]\n",
        " |  \n",
        " |  Segmentation\n",
        " |  \n",
        " |      >>> segmentation = timeline.segmentation()\n",
        " |      >>> print segmentation\n",
        " |      [\n",
        " |         [0 --> 0.5]\n",
        " |         [0.5 --> 1]\n",
        " |         [1 --> 3]\n",
        " |         [6 --> 8]\n",
        " |      ]\n",
        " |  \n",
        " |  Gaps\n",
        " |  \n",
        " |      >>> timeline = timeline.copy()\n",
        " |      >>> print timeline\n",
        " |      [\n",
        " |         [0 --> 1]\n",
        " |         [0.5 --> 3]\n",
        " |         [6 --> 8]\n",
        " |      ]\n",
        " |      >>> print timeline.gaps()\n",
        " |      [\n",
        " |         [3 --> 6]\n",
        " |      ]\n",
        " |      >>> segment = Segment(0, 10)\n",
        " |      >>> print timeline.gaps(segment)\n",
        " |      [\n",
        " |         [3 --> 6]\n",
        " |         [8 --> 10]\n",
        " |      ]\n",
        " |  \n",
        " |  Methods defined here:\n",
        " |  \n",
        " |  __contains__(self, included)\n",
        " |      Inclusion\n",
        " |      \n",
        " |      Use expression 'segment in timeline' or 'other_timeline in timeline'\n",
        " |      \n",
        " |      Parameters\n",
        " |      ----------\n",
        " |      included : `Segment` or `Timeline`\n",
        " |      \n",
        " |      Returns\n",
        " |      -------\n",
        " |      contains : bool\n",
        " |          True if every segment in `included` exists in timeline,\n",
        " |          False otherwise\n",
        " |  \n",
        " |  __eq__(self, other)\n",
        " |  \n",
        " |  __getitem__(self, k)\n",
        " |      Returns kth segment\n",
        " |  \n",
        " |  __init__(self, segments=None, uri=None)\n",
        " |  \n",
        " |  __iter__(self)\n",
        " |  \n",
        " |  __len__(self)\n",
        " |  \n",
        " |  __ne__(self, other)\n",
        " |  \n",
        " |  __nonzero__(self)\n",
        " |  \n",
        " |  __repr__(self)\n",
        " |  \n",
        " |  __str__(self)\n",
        " |      Human-friendly representation\n",
        " |  \n",
        " |  add(self, segment)\n",
        " |      Add segment\n",
        " |  \n",
        " |  co_iter(self, other)\n",
        " |  \n",
        " |  copy(self, segment_func=None)\n",
        " |      Duplicate timeline.\n",
        " |      \n",
        " |      If segment_func is provided, apply it to each segment first.\n",
        " |      \n",
        " |      Parameters\n",
        " |      ----------\n",
        " |      segment_func : function\n",
        " |      \n",
        " |      Returns\n",
        " |      -------\n",
        " |      timeline : Timeline\n",
        " |          A (possibly modified) copy of the timeline\n",
        " |      \n",
        " |      Examples\n",
        " |      --------\n",
        " |      \n",
        " |          >>> timeline = Timeline(uri=\"MyVideo.avi\")\n",
        " |          >>> timeline += [Segment(0, 1), Segment(2, 3)]\n",
        " |          >>> cp = timeline.copy()\n",
        " |          >>> print cp.uri\n",
        " |          MyVideo.avi\n",
        " |          >>> print cp\n",
        " |          [\n",
        " |             [0 --> 1]\n",
        " |             [2 --> 3]\n",
        " |          ]\n",
        " |  \n",
        " |  coverage(self)\n",
        " |      Timeline coverage\n",
        " |      \n",
        " |      The coverage of timeline is the timeline with the minimum number of\n",
        " |      segments with exactly the same time span as the original timeline.\n",
        " |      It is (by definition) unique and does not contain any overlapping\n",
        " |      segments.\n",
        " |      \n",
        " |      Returns\n",
        " |      -------\n",
        " |      coverage : Timeline\n",
        " |          Timeline coverage\n",
        " |  \n",
        " |  crop(self, other, mode='intersection', mapping=False)\n",
        " |  \n",
        " |  duration(self)\n",
        " |      Timeline duration\n",
        " |      \n",
        " |      Returns\n",
        " |      -------\n",
        " |      duration : float\n",
        " |          Duration of timeline coverage, in seconds.\n",
        " |  \n",
        " |  empty(self)\n",
        " |      Empty copy of a timeline.\n",
        " |      \n",
        " |      Examples\n",
        " |      --------\n",
        " |      \n",
        " |          >>> timeline = Timeline(uri=\"MyVideo.avi\")\n",
        " |          >>> timeline += [Segment(0, 1), Segment(2, 3)]\n",
        " |          >>> empty = timeline.empty()\n",
        " |          >>> print empty.uri\n",
        " |          MyVideo.avi\n",
        " |          >>> print empty\n",
        " |          [\n",
        " |          ]\n",
        " |  \n",
        " |  extent(self)\n",
        " |      Timeline extent\n",
        " |      \n",
        " |      The extent of a timeline is the segment of minimum duration that\n",
        " |      contains every segments of the timeline. It is unique, by definition.\n",
        " |      The extent of an empty timeline is an empty segment.\n",
        " |      \n",
        " |      Returns\n",
        " |      -------\n",
        " |      extent : Segment\n",
        " |          Timeline extent\n",
        " |      \n",
        " |      Examples\n",
        " |      --------\n",
        " |      \n",
        " |          >>> timeline = Timeline(uri=\"MyVideo.avi\")\n",
        " |          >>> timeline += [Segment(0, 1), Segment(9, 10)]\n",
        " |          >>> print timeline.extent()\n",
        " |          [0 --> 10]\n",
        " |  \n",
        " |  gaps(self, focus=None)\n",
        " |      Timeline gaps\n",
        " |      \n",
        " |      Parameters\n",
        " |      ----------\n",
        " |      focus : None, Segment or Timeline\n",
        " |      \n",
        " |      Returns\n",
        " |      -------\n",
        " |      gaps : Timeline\n",
        " |          Timeline made of all gaps from original timeline, and delimited\n",
        " |          by provided segment or timeline.\n",
        " |      \n",
        " |      Raises\n",
        " |      ------\n",
        " |      TypeError when `focus` is neither None, Segment nor Timeline\n",
        " |      \n",
        " |      Examples\n",
        " |      --------\n",
        " |  \n",
        " |  index(self, segment)\n",
        " |      Index of segment\n",
        " |      \n",
        " |      Parameter\n",
        " |      ---------\n",
        " |      segment : Segment\n",
        " |      \n",
        " |      Raises\n",
        " |      ------\n",
        " |      ValueError if the segment is not present\n",
        " |  \n",
        " |  overlapping(self, timestamp)\n",
        " |      Get list of segments overlapping `timestamp`\n",
        " |  \n",
        " |  segmentation(self)\n",
        " |      Non-overlapping timeline\n",
        " |      \n",
        " |      Create the unique timeline with same coverage and same set of segment\n",
        " |      boundaries as original timeline, but with no overlapping segments.\n",
        " |      \n",
        " |      A picture is worth a thousand words:\n",
        " |      \n",
        " |          Original timeline:\n",
        " |          |------|    |------|     |----|\n",
        " |            |--|    |-----|     |----------|\n",
        " |      \n",
        " |          Non-overlapping timeline\n",
        " |          |-|--|-|  |-|---|--|  |--|----|--|\n",
        " |      \n",
        " |      Returns\n",
        " |      -------\n",
        " |      timeline : Timeline\n",
        " |      \n",
        " |      Examples\n",
        " |      --------\n",
        " |      \n",
        " |          >>> timeline = Timeline()\n",
        " |          >>> timeline += [Segment(0, 1), Segment(1, 2), Segment(2,3)]\n",
        " |          >>> timeline += [Segment(2, 4), Segment(6, 7)]\n",
        " |          >>> print timeline.segmentation()\n",
        " |          [\n",
        " |             [0 --> 1]\n",
        " |             [1 --> 2]\n",
        " |             [2 --> 3]\n",
        " |             [3 --> 4]\n",
        " |             [6 --> 7]\n",
        " |          ]\n",
        " |  \n",
        " |  to_json(self)\n",
        " |  \n",
        " |  union(self, other)\n",
        " |      Create new timeline made of union of segments\n",
        " |  \n",
        " |  update(self, timeline)\n",
        " |      Add `timeline` segments\n",
        " |  \n",
        " |  ----------------------------------------------------------------------\n",
        " |  Data descriptors defined here:\n",
        " |  \n",
        " |  __dict__\n",
        " |      dictionary for instance variables (if defined)\n",
        " |  \n",
        " |  __weakref__\n",
        " |      list of weak references to the object (if defined)\n",
        "\n"
       ]
      }
     ],
     "prompt_number": 22
    }
   ],
   "metadata": {}
  }
 ]
}