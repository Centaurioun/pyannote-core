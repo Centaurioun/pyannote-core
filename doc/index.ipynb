{
 "cells": [
  {
   "cell_type": "code",
   "execution_count": 1,
   "metadata": {
    "collapsed": false,
    "scrolled": true
   },
   "outputs": [
    {
     "name": "stdout",
     "output_type": "stream",
     "text": [
      "Populating the interactive namespace from numpy and matplotlib\n"
     ]
    }
   ],
   "source": [
    "%pylab inline\n",
    "import random\n",
    "random.seed(1337)"
   ]
  },
  {
   "cell_type": "markdown",
   "metadata": {},
   "source": [
    "# Documentation for `pyannote.core`"
   ]
  },
  {
   "cell_type": "markdown",
   "metadata": {},
   "source": [
    "## Install"
   ]
  },
  {
   "cell_type": "markdown",
   "metadata": {},
   "source": [
    "`pyannote.core` package can be installed the easy way:\n",
    "```bash\n",
    "$ pip install pyannote.core\n",
    "```\n",
    "\n",
    "Adding support for Jupyter/IPython Notebook graphical representations is as easy as:\n",
    "```bash\n",
    "$ pip install pyannote.core[notebook]\n",
    "```"
   ]
  },
  {
   "cell_type": "markdown",
   "metadata": {},
   "source": [
    "## Available data structures"
   ]
  },
  {
   "cell_type": "code",
   "execution_count": 2,
   "metadata": {
    "collapsed": false
   },
   "outputs": [],
   "source": [
    "from pyannote.core import *"
   ]
  },
  {
   "cell_type": "markdown",
   "metadata": {},
   "source": [
    "### Segment ([pyannote.core.segment](pyannote.core.segment.ipynb))"
   ]
  },
  {
   "cell_type": "code",
   "execution_count": 10,
   "metadata": {
    "collapsed": false
   },
   "outputs": [
    {
     "data": {
      "image/png": "[encoded data removed]",
      "text/plain": [
       "<Segment(0, 10)>"
      ]
     },
     "execution_count": 10,
     "metadata": {},
     "output_type": "execute_result"
    }
   ],
   "source": [
    "segment = Segment(start=0, end=10)\n",
    "segment"
   ]
  },
  {
   "cell_type": "markdown",
   "metadata": {},
   "source": [
    "### Timeline ([pyannote.core.timeline](pyannote.core.timeline.ipynb))"
   ]
  },
  {
   "cell_type": "code",
   "execution_count": 4,
   "metadata": {
    "collapsed": false
   },
   "outputs": [
    {
     "data": {
      "image/png": "[encoded data removed]",
      "text/plain": [
       "<Timeline(uri=None, segments=[<Segment(1, 5)>, <Segment(6, 8)>, <Segment(7, 20)>, <Segment(12, 18)>])>"
      ]
     },
     "execution_count": 4,
     "metadata": {},
     "output_type": "execute_result"
    }
   ],
   "source": [
    "timeline = Timeline([Segment(1, 5), Segment(6, 8), Segment(12, 18), Segment(7, 20)])\n",
    "timeline"
   ]
  },
  {
   "cell_type": "markdown",
   "metadata": {},
   "source": [
    "### Annotation ([pyannote.core.annotation](pyannote.core.annotation.ipynb))"
   ]
  },
  {
   "cell_type": "code",
   "execution_count": 5,
   "metadata": {
    "collapsed": false
   },
   "outputs": [
    {
     "data": {
      "image/png": "[encoded data removed]",
      "text/plain": [
       "<pyannote.core.annotation.Annotation at 0x10e343f10>"
      ]
     },
     "execution_count": 5,
     "metadata": {},
     "output_type": "execute_result"
    }
   ],
   "source": [
    "annotation = Annotation()\n",
    "annotation[Segment(1, 5)] = 'John'\n",
    "annotation[Segment(6, 8)] = 'Jack'\n",
    "annotation[Segment(12, 18)] = 'John'\n",
    "annotation[Segment(7, 20)] = 'Alice'\n",
    "annotation"
   ]
  },
  {
   "cell_type": "markdown",
   "metadata": {},
   "source": [
    "### Transcription ([pyannote.core.transcription](pyannote.core.transcription.ipynb))"
   ]
  },
  {
   "cell_type": "code",
   "execution_count": 11,
   "metadata": {
    "collapsed": false
   },
   "outputs": [
    {
     "data": {
      "image/svg+xml": [
       "<svg width=\"697pt\" height=\"114pt\"\n",
       " viewBox=\"0.00 0.00 697.00 114.00\" xmlns=\"http://www.w3.org/2000/svg\" xmlns:xlink=\"http://www.w3.org/1999/xlink\">\n",
       "<g id=\"graph0\" class=\"graph\" transform=\"scale(1 1) rotate(0) translate(4 110)\">\n",
       "<title>G</title>\n",
       "<polygon fill=\"white\" stroke=\"none\" points=\"-4,4 -4,-110 693,-110 693,4 -4,4\"/>\n",
       "<!-- 8.0 -->\n",
       "<g id=\"node1\" class=\"node\"><title>8.0</title>\n",
       "<g id=\"a_node1\"><a xlink:title=\"8.0\">\n",
       "<polygon fill=\"none\" stroke=\"black\" points=\"689,-63 635,-63 635,-27 689,-27 689,-63\"/>\n",
       "<text text-anchor=\"middle\" x=\"662\" y=\"-40.8\" font-family=\"Times,serif\" font-size=\"14.00\">8.0</text>\n",
       "</a>\n",
       "</g>\n",
       "</g>\n",
       "<!-- 1.0 -->\n",
       "<g id=\"node2\" class=\"node\"><title>1.0</title>\n",
       "<g id=\"a_node2\"><a xlink:title=\"1.0\">\n",
       "<polygon fill=\"none\" stroke=\"black\" points=\"54,-63 0,-63 0,-27 54,-27 54,-63\"/>\n",
       "<text text-anchor=\"middle\" x=\"27\" y=\"-40.8\" font-family=\"Times,serif\" font-size=\"14.00\">1.0</text>\n",
       "</a>\n",
       "</g>\n",
       "</g>\n",
       "<!-- 1.0&#45;&gt;8.0 -->\n",
       "<g id=\"edge1\" class=\"edge\"><title>1.0&#45;&gt;8.0</title>\n",
       "<g id=\"a_edge1\"><a xlink:title=\"[summary] Jack meets John\">\n",
       "<path fill=\"none\" stroke=\"black\" d=\"M54.2077,-54.7869C59.9887,-56.5362 66.1382,-58.0899 72,-59 311.355,-96.1613 377.645,-96.1613 617,-59 619.656,-58.5876 622.371,-58.0431 625.085,-57.4081\"/>\n",
       "<polygon fill=\"black\" stroke=\"black\" points=\"626.05,-60.7727 634.792,-54.7869 624.226,-54.0147 626.05,-60.7727\"/>\n",
       "</a>\n",
       "</g>\n",
       "<g id=\"a_edge1&#45;label\"><a xlink:title=\"[summary] Jack meets John\">\n",
       "<text text-anchor=\"start\" x=\"260.948\" y=\"-92.8\" font-family=\"Times,serif\" font-weight=\"bold\" font-size=\"14.00\">summary</text>\n",
       "<text text-anchor=\"start\" x=\"318.51\" y=\"-91.8\" font-family=\"Times,serif\" font-size=\"14.00\">Jack meets John</text>\n",
       "</a>\n",
       "</g>\n",
       "</g>\n",
       "<!-- 5.0 -->\n",
       "<g id=\"node3\" class=\"node\"><title>5.0</title>\n",
       "<g id=\"a_node3\"><a xlink:title=\"5.0\">\n",
       "<polygon fill=\"none\" stroke=\"black\" points=\"240,-36 186,-36 186,-0 240,-0 240,-36\"/>\n",
       "<text text-anchor=\"middle\" x=\"213\" y=\"-13.8\" font-family=\"Times,serif\" font-size=\"14.00\">5.0</text>\n",
       "</a>\n",
       "</g>\n",
       "</g>\n",
       "<!-- 1.0&#45;&gt;5.0 -->\n",
       "<g id=\"edge2\" class=\"edge\"><title>1.0&#45;&gt;5.0</title>\n",
       "<g id=\"a_edge2\"><a xlink:title=\"[speech] Hi Jack[speaker] John\">\n",
       "<path fill=\"none\" stroke=\"black\" d=\"M53.5019,-26.9211C59.3269,-23.6665 65.6727,-20.754 72,-19 106.316,-9.48697 147.208,-10.535 175.909,-13.1716\"/>\n",
       "<polygon fill=\"black\" stroke=\"black\" points=\"175.591,-16.6573 185.897,-14.1983 176.307,-9.69404 175.591,-16.6573\"/>\n",
       "</a>\n",
       "</g>\n",
       "<g id=\"a_edge2&#45;label\"><a xlink:title=\"[speech] Hi Jack[speaker] John\">\n",
       "<text text-anchor=\"start\" x=\"75\" y=\"-45.8\" font-family=\"Times,serif\" font-weight=\"bold\" font-size=\"14.00\">speech</text>\n",
       "<text text-anchor=\"start\" x=\"122.812\" y=\"-44.8\" font-family=\"Times,serif\" font-size=\"14.00\">Hi Jack</text>\n",
       "<text text-anchor=\"start\" x=\"74.624\" y=\"-25.8\" font-family=\"Times,serif\" font-weight=\"bold\" font-size=\"14.00\">speaker</text>\n",
       "<text text-anchor=\"start\" x=\"123\" y=\"-24.8\" font-family=\"Times,serif\" font-size=\"14.00\">John</text>\n",
       "</a>\n",
       "</g>\n",
       "</g>\n",
       "<!-- 6.0 -->\n",
       "<g id=\"node4\" class=\"node\"><title>6.0</title>\n",
       "<g id=\"a_node4\"><a xlink:title=\"6.0\">\n",
       "<polygon fill=\"none\" stroke=\"black\" points=\"484,-36 430,-36 430,-0 484,-0 484,-36\"/>\n",
       "<text text-anchor=\"middle\" x=\"457\" y=\"-13.8\" font-family=\"Times,serif\" font-size=\"14.00\">6.0</text>\n",
       "</a>\n",
       "</g>\n",
       "</g>\n",
       "<!-- 5.0&#45;&gt;6.0 -->\n",
       "<g id=\"edge3\" class=\"edge\"><title>5.0&#45;&gt;6.0</title>\n",
       "<g id=\"a_edge3\"><a xlink:title=\" \">\n",
       "<path fill=\"none\" stroke=\"black\" d=\"M240.359,-18C283.728,-18 370.221,-18 419.467,-18\"/>\n",
       "<polygon fill=\"black\" stroke=\"black\" points=\"419.674,-21.5001 429.674,-18 419.674,-14.5001 419.674,-21.5001\"/>\n",
       "</a>\n",
       "</g>\n",
       "<g id=\"a_edge3&#45;label\"><a xlink:title=\" \">\n",
       "<text text-anchor=\"middle\" x=\"335\" y=\"-20.8\" font-family=\"Times,serif\" font-size=\"14.00\"> </text>\n",
       "</a>\n",
       "</g>\n",
       "</g>\n",
       "<!-- 6.0&#45;&gt;8.0 -->\n",
       "<g id=\"edge4\" class=\"edge\"><title>6.0&#45;&gt;8.0</title>\n",
       "<g id=\"a_edge4\"><a xlink:title=\"[speech] Hello John[speaker] Jack\">\n",
       "<path fill=\"none\" stroke=\"black\" d=\"M484.181,-14.0591C516.172,-10.1708 571.639,-6.44607 617,-19 620.164,-19.8757 623.333,-21.0413 626.438,-22.3949\"/>\n",
       "<polygon fill=\"black\" stroke=\"black\" points=\"624.989,-25.5831 635.499,-26.917 628.115,-19.3198 624.989,-25.5831\"/>\n",
       "</a>\n",
       "</g>\n",
       "<g id=\"a_edge4&#45;label\"><a xlink:title=\"[speech] Hello John[speaker] Jack\">\n",
       "<text text-anchor=\"start\" x=\"505.5\" y=\"-45.8\" font-family=\"Times,serif\" font-weight=\"bold\" font-size=\"14.00\">speech</text>\n",
       "<text text-anchor=\"start\" x=\"553.474\" y=\"-44.8\" font-family=\"Times,serif\" font-size=\"14.00\">Hello John</text>\n",
       "<text text-anchor=\"start\" x=\"505.124\" y=\"-25.8\" font-family=\"Times,serif\" font-weight=\"bold\" font-size=\"14.00\">speaker</text>\n",
       "<text text-anchor=\"start\" x=\"553.5\" y=\"-24.8\" font-family=\"Times,serif\" font-size=\"14.00\">Jack</text>\n",
       "</a>\n",
       "</g>\n",
       "</g>\n",
       "</g>\n",
       "</svg>\n"
      ],
      "text/plain": [
       "<pyannote.core.transcription.Transcription at 0x10e6d8150>"
      ]
     },
     "execution_count": 11,
     "metadata": {},
     "output_type": "execute_result"
    }
   ],
   "source": [
    "transcription = Transcription()\n",
    "transcription.add_edge(T(1), T(5), speech='Hi Jack', speaker='John')\n",
    "transcription.add_edge(T(5), T(6))\n",
    "transcription.add_edge(T(6), T(8), speech='Hello John', speaker='Jack')\n",
    "transcription.add_edge(T(1), T(8), summary='Jack meets John')\n",
    "transcription"
   ]
  },
  {
   "cell_type": "markdown",
   "metadata": {},
   "source": [
    "### Feature ([pyannote.core.feature](pyannote.core.feature.ipynb))"
   ]
  },
  {
   "cell_type": "code",
   "execution_count": 12,
   "metadata": {
    "collapsed": false
   },
   "outputs": [],
   "source": [
    "# one 4-dimensional feature vector extracted every 100ms from a 200ms window\n",
    "frame = SlidingWindow(start=0.0, step=0.100, duration=0.200)\n",
    "data = np.random.randn(100, 4)\n",
    "features = SlidingWindowFeature(data, frame)"
   ]
  },
  {
   "cell_type": "code",
   "execution_count": 13,
   "metadata": {
    "collapsed": false
   },
   "outputs": [
    {
     "data": {
      "text/plain": [
       "array([[-0.02398101,  0.96936178,  0.08722236,  1.38049786],\n",
       "       [-0.02563058,  0.58716941,  0.57081204,  1.71583815],\n",
       "       [-1.54736374,  0.1532796 , -0.17556788, -0.23816944],\n",
       "       [-0.38564582, -0.93623752, -0.31135233, -1.04632154],\n",
       "       [-1.7825375 ,  1.83034498, -0.47486469,  0.83661219],\n",
       "       [-0.65687327, -2.2989386 ,  1.10673251, -1.58240277],\n",
       "       [ 0.34131944, -1.10601551,  0.22158293, -0.49963872],\n",
       "       [ 0.06381987,  0.57322692, -0.55075915, -1.46136093],\n",
       "       [-0.53654574,  0.35422431, -0.50804965,  0.84145268],\n",
       "       [-0.94217804,  1.46118512, -0.38288928, -0.11427131],\n",
       "       [ 0.05520638,  0.89873895, -2.90091524, -0.77987021],\n",
       "       [-1.25727865, -1.21391373, -2.03224394, -0.04863112],\n",
       "       [-0.16344557, -0.36189147, -0.72986667, -1.31288312]])"
      ]
     },
     "execution_count": 13,
     "metadata": {},
     "output_type": "execute_result"
    }
   ],
   "source": [
    "features.crop(Segment(2, 3))"
   ]
  },
  {
   "cell_type": "markdown",
   "metadata": {},
   "source": [
    "### Scores ([pyannote.core.scores](pyannote.core.scores.ipynb))"
   ]
  },
  {
   "cell_type": "code",
   "execution_count": 9,
   "metadata": {
    "collapsed": false
   },
   "outputs": [
    {
     "data": {
      "image/png": "[encoded data removed]",
      "text/plain": [
       "<pyannote.core.scores.Scores at 0x10e6d8bd0>"
      ]
     },
     "execution_count": 9,
     "metadata": {},
     "output_type": "execute_result"
    }
   ],
   "source": [
    "scores = Scores()\n",
    "scores[Segment(3, 5), '_', 'Penny'] = 0.8\n",
    "scores[Segment(3, 5), '_', 'Leonard'] = 0.15\n",
    "scores[Segment(3, 5), '_', 'Sheldon'] = 0.05\n",
    "scores[Segment(5.5, 7), '_', 'Penny'] = 0.4\n",
    "scores[Segment(5.5, 7), '_', 'Leonard'] = 0.5\n",
    "scores[Segment(5.5, 7), '_', 'Sheldon'] = 0.1\n",
    "scores[Segment(8, 10), '_', 'Penny'] = 0.4\n",
    "scores[Segment(8, 10), '_', 'Leonard'] = 0.25\n",
    "scores[Segment(8, 10), '_', 'Sheldon'] = 0.35\n",
    "scores"
   ]
  },
  {
   "cell_type": "markdown",
   "metadata": {},
   "source": [
    "## Contribute"
   ]
  },
  {
   "cell_type": "markdown",
   "metadata": {},
   "source": [
    "`pyannote.core` is on [Github](https://github.com/pyannote/pyannote-core).  \n",
    " \n",
    " \n",
    " Fork and pull requests are very welcome!"
   ]
  }
 ],
 "metadata": {
  "kernelspec": {
   "display_name": "Python 2",
   "language": "python",
   "name": "python2"
  },
  "language_info": {
   "codemirror_mode": {
    "name": "ipython",
    "version": 2
   },
   "file_extension": ".py",
   "mimetype": "text/x-python",
   "name": "python",
   "nbconvert_exporter": "python",
   "pygments_lexer": "ipython2",
   "version": "2.7.10"
  }
 },
 "nbformat": 4,
 "nbformat_minor": 0
}
