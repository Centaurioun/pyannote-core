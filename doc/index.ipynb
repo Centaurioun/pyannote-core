{
 "metadata": {
  "name": "",
  "signature": "sha256:3e295104febcaf8e546ee8ee6c91f6991a7dba086959f3caef5ab40c92b01eb4"
 },
 "nbformat": 3,
 "nbformat_minor": 0,
 "worksheets": [
  {
   "cells": [
    {
     "cell_type": "heading",
     "level": 1,
     "metadata": {},
     "source": [
      "Documentation for `pyannote.core`"
     ]
    },
    {
     "cell_type": "heading",
     "level": 2,
     "metadata": {},
     "source": [
      "Install"
     ]
    },
    {
     "cell_type": "markdown",
     "metadata": {},
     "source": [
      "pyannote.core package can be installed the easy way:\n",
      "```bash\n",
      "$ pip install pyannote.core\n",
      "```"
     ]
    },
    {
     "cell_type": "heading",
     "level": 2,
     "metadata": {},
     "source": [
      "Available data structures"
     ]
    },
    {
     "cell_type": "markdown",
     "metadata": {},
     "source": [
      "[Segment](pyannote.core.segment.ipynb) (`pyannote.core.segment`)"
     ]
    },
    {
     "cell_type": "markdown",
     "metadata": {},
     "source": [
      "[Timeline](pyannote.core.timeline.ipynb) (`pyannote.core.timeline`)"
     ]
    },
    {
     "cell_type": "markdown",
     "metadata": {},
     "source": [
      "[Annotation](pyannote.core.annotation) (`pyannote.core.annotation`)"
     ]
    }
   ],
   "metadata": {}
  }
 ]
}