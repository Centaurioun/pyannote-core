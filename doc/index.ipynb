{
 "metadata": {
  "name": "",
  "signature": "sha256:618c1abfc4fb6815952c57d406154c1d311c2997f25edbdf8ab44d8af47cb3ec"
 },
 "nbformat": 3,
 "nbformat_minor": 0,
 "worksheets": [
  {
   "cells": [
    {
     "cell_type": "heading",
     "level": 1,
     "metadata": {},
     "source": [
      "Documentation for `pyannote.core`"
     ]
    },
    {
     "cell_type": "heading",
     "level": 2,
     "metadata": {},
     "source": [
      "Install"
     ]
    },
    {
     "cell_type": "markdown",
     "metadata": {},
     "source": [
      "`pyannote.core` package can be installed the easy way:\n",
      "```bash\n",
      "$ pip install pyannote.core\n",
      "```"
     ]
    },
    {
     "cell_type": "heading",
     "level": 2,
     "metadata": {},
     "source": [
      "Available data structures"
     ]
    },
    {
     "cell_type": "markdown",
     "metadata": {},
     "source": [
      "[Segment](pyannote.core.segment.ipynb) (`pyannote.core.segment`)"
     ]
    },
    {
     "cell_type": "markdown",
     "metadata": {},
     "source": [
      "[Timeline](pyannote.core.timeline.ipynb) (`pyannote.core.timeline`)"
     ]
    },
    {
     "cell_type": "markdown",
     "metadata": {},
     "source": [
      "[Annotation](pyannote.core.annotation.ipynb) (`pyannote.core.annotation`)"
     ]
    },
    {
     "cell_type": "markdown",
     "metadata": {},
     "source": [
      "[Feature](pyannote.core.feature.ipynb) (`pyannote.core.feature`) -- documentation coming soon"
     ]
    },
    {
     "cell_type": "markdown",
     "metadata": {},
     "source": [
      "[Scores](pyannote.core.scores.ipynb) (`pyannote.core.scores`) -- documentation coming soon"
     ]
    },
    {
     "cell_type": "heading",
     "level": 2,
     "metadata": {},
     "source": [
      "Contribute"
     ]
    },
    {
     "cell_type": "markdown",
     "metadata": {},
     "source": [
      "`pyannote.core` is on [Github](https://github.com/hbredin/pyannote-core).  \n",
      " \n",
      " \n",
      " Fork and pull requests are very welcome!"
     ]
    }
   ],
   "metadata": {}
  }
 ]
}