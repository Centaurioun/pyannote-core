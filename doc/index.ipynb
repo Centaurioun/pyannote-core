{
 "metadata": {
  "name": "",
  "signature": "sha256:9358a0cd9feb4f3aeb0db4a6cdb9aac9a0f5b7009558534b31a2866ba57a2b4b"
 },
 "nbformat": 3,
 "nbformat_minor": 0,
 "worksheets": [
  {
   "cells": [
    {
     "cell_type": "heading",
     "level": 1,
     "metadata": {},
     "source": [
      "Documentation for `pyannote.core`"
     ]
    },
    {
     "cell_type": "heading",
     "level": 2,
     "metadata": {},
     "source": [
      "Install"
     ]
    },
    {
     "cell_type": "markdown",
     "metadata": {},
     "source": [
      "pyannote.core package can be installed the easy way:\n",
      "```bash\n",
      "$ pip install pyannote.core\n",
      "```"
     ]
    },
    {
     "cell_type": "heading",
     "level": 2,
     "metadata": {},
     "source": [
      "Available data structures"
     ]
    },
    {
     "cell_type": "markdown",
     "metadata": {},
     "source": [
      "[Segment](pyannote.core.segment.ipynb) (`pyannote.core.segment`)"
     ]
    },
    {
     "cell_type": "markdown",
     "metadata": {},
     "source": [
      "[Timeline](pyannote.core.timeline.ipynb) (`pyannote.core.timeline`)"
     ]
    },
    {
     "cell_type": "markdown",
     "metadata": {},
     "source": [
      "[Annotation](pyannote.core.annotation.ipynb) (`pyannote.core.annotation`)"
     ]
    },
    {
     "cell_type": "heading",
     "level": 2,
     "metadata": {},
     "source": [
      "Contribute"
     ]
    },
    {
     "cell_type": "markdown",
     "metadata": {},
     "source": [
      "`pyannote.core` is on [Github](https://github.com/hbredin/pyannote-core].  \n",
      "Please fork and pull requests :)"
     ]
    },
    {
     "cell_type": "code",
     "collapsed": false,
     "input": [],
     "language": "python",
     "metadata": {},
     "outputs": []
    }
   ],
   "metadata": {}
  }
 ]
}