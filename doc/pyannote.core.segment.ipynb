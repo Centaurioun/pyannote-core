{
 "cells": [
  {
   "cell_type": "code",
   "execution_count": 1,
   "metadata": {
    "collapsed": false
   },
   "outputs": [
    {
     "name": "stdout",
     "output_type": "stream",
     "text": [
      "Populating the interactive namespace from numpy and matplotlib\n"
     ]
    }
   ],
   "source": [
    "%pylab inline\n",
    "from pyannote.core import notebook"
   ]
  },
  {
   "cell_type": "markdown",
   "metadata": {},
   "source": [
    "# Segment (`pyannote.core.segment.Segment`)"
   ]
  },
  {
   "cell_type": "code",
   "execution_count": 2,
   "metadata": {
    "collapsed": false
   },
   "outputs": [],
   "source": [
    "from pyannote.core import Segment"
   ]
  },
  {
   "cell_type": "markdown",
   "metadata": {},
   "source": [
    "**`Segment`** instances are used to describe temporal fragments (e.g. of an audio file)."
   ]
  },
  {
   "cell_type": "code",
   "execution_count": 3,
   "metadata": {
    "collapsed": false
   },
   "outputs": [
    {
     "data": {
      "image/png": "[encoded data removed]",
      "text/plain": [
       "<Segment(1, 9)>"
      ]
     },
     "execution_count": 3,
     "metadata": {},
     "output_type": "execute_result"
    }
   ],
   "source": [
    "# start time in seconds\n",
    "s = 1.\n",
    "# end time in seconds\n",
    "e = 9.\n",
    "segment = Segment(start=s, end=e)\n",
    "segment"
   ]
  },
  {
   "cell_type": "markdown",
   "metadata": {},
   "source": [
    "**`Segment`** instances are nothing more than 2-tuples augmented with several useful methods and properties."
   ]
  },
  {
   "cell_type": "code",
   "execution_count": 4,
   "metadata": {
    "collapsed": false
   },
   "outputs": [
    {
     "name": "stdout",
     "output_type": "stream",
     "text": [
      "from 1.000000 to 9.000000\n"
     ]
    }
   ],
   "source": [
    "start, end = segment\n",
    "print 'from %f to %f' % (start, end)"
   ]
  },
  {
   "cell_type": "code",
   "execution_count": 5,
   "metadata": {
    "collapsed": false
   },
   "outputs": [
    {
     "name": "stdout",
     "output_type": "stream",
     "text": [
      "Segment [1.000 --> 9.000] ends at 9 seconds.\n",
      "Its duration is 8 seconds.\n",
      "Its middle stands as 5 seconds.\n"
     ]
    }
   ],
   "source": [
    "print 'Segment %s ends at %g seconds.' % (segment, segment.end)\n",
    "print 'Its duration is %g seconds.' % (segment.duration)\n",
    "print 'Its middle stands as %g seconds.' % (segment.middle)"
   ]
  },
  {
   "cell_type": "markdown",
   "metadata": {},
   "source": [
    "### Intersection"
   ]
  },
  {
   "cell_type": "code",
   "execution_count": 6,
   "metadata": {
    "collapsed": false
   },
   "outputs": [
    {
     "name": "stdout",
     "output_type": "stream",
     "text": [
      "Segment [1.000 --> 9.000] intersects other segment [4.000 --> 13.000].\n",
      "Their intersection is [4.000 --> 9.000].\n"
     ]
    }
   ],
   "source": [
    "other_segment = Segment(4, 13)\n",
    "if segment.intersects(other_segment):\n",
    "    print 'Segment %s intersects other segment %s.' % (segment, other_segment)\n",
    "    intersection = segment & other_segment\n",
    "    print 'Their intersection is %s.' % (str(intersection))"
   ]
  },
  {
   "cell_type": "code",
   "execution_count": 7,
   "metadata": {
    "collapsed": false
   },
   "outputs": [
    {
     "data": {
      "image/png": "[encoded data removed]",
      "text/plain": [
       "<Segment(1, 9)>"
      ]
     },
     "execution_count": 7,
     "metadata": {},
     "output_type": "execute_result"
    }
   ],
   "source": [
    "notebook.crop = Segment(0, 15)\n",
    "segment"
   ]
  },
  {
   "cell_type": "code",
   "execution_count": 8,
   "metadata": {
    "collapsed": false
   },
   "outputs": [
    {
     "data": {
      "image/png": "[encoded data removed]",
      "text/plain": [
       "<Segment(4, 13)>"
      ]
     },
     "execution_count": 8,
     "metadata": {},
     "output_type": "execute_result"
    }
   ],
   "source": [
    "other_segment"
   ]
  },
  {
   "cell_type": "code",
   "execution_count": 9,
   "metadata": {
    "collapsed": false
   },
   "outputs": [
    {
     "data": {
      "image/png": "[encoded data removed]",
      "text/plain": [
       "<Segment(4, 9)>"
      ]
     },
     "execution_count": 9,
     "metadata": {},
     "output_type": "execute_result"
    }
   ],
   "source": [
    "segment & other_segment"
   ]
  },
  {
   "cell_type": "code",
   "execution_count": 10,
   "metadata": {
    "collapsed": false
   },
   "outputs": [
    {
     "name": "stdout",
     "output_type": "stream",
     "text": [
      "Those two segments do not intersect.\n"
     ]
    }
   ],
   "source": [
    "other_segment = Segment(13, 20)\n",
    "if not (segment & other_segment):\n",
    "    print 'Those two segments do not intersect.'"
   ]
  },
  {
   "cell_type": "code",
   "execution_count": 11,
   "metadata": {
    "collapsed": false
   },
   "outputs": [
    {
     "data": {
      "image/png": "[encoded data removed]",
      "text/plain": [
       "<Segment(1, 9)>"
      ]
     },
     "execution_count": 11,
     "metadata": {},
     "output_type": "execute_result"
    }
   ],
   "source": [
    "notebook.crop = Segment(0, 30)\n",
    "segment"
   ]
  },
  {
   "cell_type": "code",
   "execution_count": 12,
   "metadata": {
    "collapsed": false
   },
   "outputs": [
    {
     "data": {
      "image/png": "[encoded data removed]",
      "text/plain": [
       "<Segment(13, 20)>"
      ]
     },
     "execution_count": 12,
     "metadata": {},
     "output_type": "execute_result"
    }
   ],
   "source": [
    "other_segment"
   ]
  },
  {
   "cell_type": "markdown",
   "metadata": {},
   "source": [
    "### Inclusion"
   ]
  },
  {
   "cell_type": "code",
   "execution_count": 13,
   "metadata": {
    "collapsed": false
   },
   "outputs": [
    {
     "name": "stdout",
     "output_type": "stream",
     "text": [
      "[5.000 --> 6.000] in included in [1.000 --> 9.000]\n"
     ]
    }
   ],
   "source": [
    "other_segment = Segment(5, 6)\n",
    "if other_segment in segment:\n",
    "    print '%s in included in %s' % (other_segment, segment)"
   ]
  },
  {
   "cell_type": "code",
   "execution_count": 14,
   "metadata": {
    "collapsed": false
   },
   "outputs": [
    {
     "name": "stdout",
     "output_type": "stream",
     "text": [
      "[1.000 --> 9.000] does not contain time 23.000000\n"
     ]
    }
   ],
   "source": [
    "t = 23.\n",
    "if not segment.overlaps(t):\n",
    "    print '%s does not contain time %f' % (segment, t)"
   ]
  },
  {
   "cell_type": "markdown",
   "metadata": {},
   "source": [
    "### Other operations"
   ]
  },
  {
   "cell_type": "code",
   "execution_count": 15,
   "metadata": {
    "collapsed": false
   },
   "outputs": [
    {
     "name": "stdout",
     "output_type": "stream",
     "text": [
      "Union of [1.000 --> 9.000] and [10.000 --> 30.000] is [1.000 --> 30.000]\n"
     ]
    }
   ],
   "source": [
    "other_segment = Segment(10, 30)\n",
    "print 'Union of %s and %s is %s' % (segment, other_segment, segment | other_segment)"
   ]
  },
  {
   "cell_type": "code",
   "execution_count": 16,
   "metadata": {
    "collapsed": false
   },
   "outputs": [
    {
     "name": "stdout",
     "output_type": "stream",
     "text": [
      "Gap between [1.000 --> 9.000] and [14.000 --> 15.000] is [9.000 --> 14.000]\n"
     ]
    }
   ],
   "source": [
    "other_segment = Segment(14, 15)\n",
    "print 'Gap between %s and %s is %s' % (segment, other_segment, segment ^ other_segment)"
   ]
  },
  {
   "cell_type": "markdown",
   "metadata": {},
   "source": [
    "### Need help?"
   ]
  },
  {
   "cell_type": "markdown",
   "metadata": {},
   "source": [
    "You can always try the following...  \n",
    "Who knows? It might give you the information you are looking for!"
   ]
  },
  {
   "cell_type": "code",
   "execution_count": 17,
   "metadata": {
    "collapsed": false
   },
   "outputs": [
    {
     "name": "stdout",
     "output_type": "stream",
     "text": [
      "Help on class Segment in module pyannote.core.segment:\n",
      "\n",
      "class Segment(Segment)\n",
      " |  Temporal interval defined by its `start` and `end` times.\n",
      " |  \n",
      " |  Multiple segment operators are available -- including intersection (&),\n",
      " |  inclusion (in), emptiness test, start/end time shifting (+, -, >>, <<).\n",
      " |  They are illustrated in **Examples** section.\n",
      " |  \n",
      " |  Comparison of two segments is also available (==, !=, <, <=, >, >=).\n",
      " |  Two segments are equal iff they have identical start and end times.\n",
      " |  Segment S is smaller than segment T iff S.start < T.start or if they have\n",
      " |  the same start time and S.end < T.start.\n",
      " |  \n",
      " |  Parameters\n",
      " |  ----------\n",
      " |  start, end : float\n",
      " |      `start` and `end` times, in seconds.\n",
      " |  \n",
      " |  Returns\n",
      " |  -------\n",
      " |  segment : Segment\n",
      " |      New segment with `start` and `end` times.\n",
      " |  \n",
      " |  Examples\n",
      " |  --------\n",
      " |  Create a new temporal interval between 00:13.000 and 00:37.000.\n",
      " |  \n",
      " |      >>> segment = Segment(start=13., end=37)\n",
      " |      >>> print segment\n",
      " |      [13.000 --> 37.000]\n",
      " |  \n",
      " |  Inclusion, intersection, union & gap\n",
      " |  \n",
      " |      >>> s1 = Segment(1, 2)\n",
      " |      >>> s2 = Segment(0, 3)\n",
      " |      >>> if s1 in s2:\n",
      " |      ...    print \"Segment %s is included in segment %s.\" % (s1, s2)\n",
      " |      Segment [1.000 --> 2.000] is included in segment [0.000 --> 3.000].\n",
      " |      >>> s3 = Segment(2, 5)\n",
      " |      >>> print s1 & s3\n",
      " |      ∅\n",
      " |      >>> print s2 & s3\n",
      " |      [2.000 --> 3.000]\n",
      " |      >>> print s2 | s3\n",
      " |      [0.000 --> 5.000]\n",
      " |      >>> print s1 ^ Segment(5, 7)\n",
      " |      [2.000 --> 5.000]\n",
      " |  \n",
      " |  Test whether segment is empty or not.\n",
      " |  \n",
      " |      >>> if not Segment(10, 10):\n",
      " |      ...    print \"Segment is empty.\"\n",
      " |      Segment is empty.\n",
      " |  \n",
      " |  Comparison\n",
      " |  \n",
      " |      >>> s1 = Segment(1, 3)\n",
      " |      >>> s2 = Segment(1, 3)\n",
      " |      >>> s3 = Segment(2, 6)\n",
      " |      >>> s4 = Segment(1, 2)\n",
      " |      >>> for s in sorted([s1, s2, s3, s4]):\n",
      " |      ...    print s\n",
      " |      [1.000 --> 2.000]\n",
      " |      [1.000 --> 3.000]\n",
      " |      [1.000 --> 3.000]\n",
      " |      [2.000 --> 6.000]\n",
      " |  \n",
      " |  Method resolution order:\n",
      " |      Segment\n",
      " |      Segment\n",
      " |      __builtin__.tuple\n",
      " |      __builtin__.object\n",
      " |  \n",
      " |  Methods defined here:\n",
      " |  \n",
      " |  __and__(self, other)\n",
      " |      Use the expression 'segment & other'\n",
      " |      \n",
      " |      Returns\n",
      " |      -------\n",
      " |      segment : Segment\n",
      " |          Intersection of the two segments\n",
      " |  \n",
      " |  __bool__(self)\n",
      " |      Use the expression 'if segment'\n",
      " |      \n",
      " |      Returns\n",
      " |      -------\n",
      " |      valid : bool\n",
      " |          False is segment is empty, True otherwise.\n",
      " |  \n",
      " |  __contains__(self, other)\n",
      " |      Use the expression 'other in segment'\n",
      " |      \n",
      " |      Returns\n",
      " |      -------\n",
      " |      contains : bool\n",
      " |          True if other segment is fully included, False otherwise\n",
      " |  \n",
      " |  __iter__(self)\n",
      " |      Makes sure tuple(segment) is a tuple of float\n",
      " |  \n",
      " |  __nonzero__(self)\n",
      " |  \n",
      " |  __or__(self, other)\n",
      " |      Use the expression 'segment | other'\n",
      " |      \n",
      " |      Returns\n",
      " |      -------\n",
      " |      segment : Segment\n",
      " |          Shortest segment that contains both segments\n",
      " |  \n",
      " |  __repr__(self)\n",
      " |  \n",
      " |  __str__(self)\n",
      " |      Use the expression str(segment)\n",
      " |  \n",
      " |  __xor__(self, other)\n",
      " |      Use the expression 'segment ^ other'\n",
      " |      \n",
      " |      Returns\n",
      " |      -------\n",
      " |      segment : Segment\n",
      " |          Gap between the two segments\n",
      " |  \n",
      " |  _get_duration(self)\n",
      " |  \n",
      " |  _get_middle(self)\n",
      " |  \n",
      " |  _pretty(self, seconds)\n",
      " |  \n",
      " |  _repr_png_(self)\n",
      " |  \n",
      " |  copy(self)\n",
      " |      Duplicate segment.\n",
      " |  \n",
      " |  for_json(self)\n",
      " |  \n",
      " |  intersects(self, other)\n",
      " |      Check whether two segments intersect each other\n",
      " |      \n",
      " |      Parameters\n",
      " |      ----------\n",
      " |      other : Segment\n",
      " |          Other segment\n",
      " |      \n",
      " |      Returns\n",
      " |      -------\n",
      " |      intersects : bool\n",
      " |          True if segments intersect, False otherwise\n",
      " |  \n",
      " |  overlaps(self, t)\n",
      " |  \n",
      " |  pretty(self)\n",
      " |      Human-readable representation of segments\n",
      " |  \n",
      " |  ----------------------------------------------------------------------\n",
      " |  Class methods defined here:\n",
      " |  \n",
      " |  from_json(cls, data) from __builtin__.type\n",
      " |  \n",
      " |  ----------------------------------------------------------------------\n",
      " |  Static methods defined here:\n",
      " |  \n",
      " |  __new__(cls, start=0.0, end=0.0)\n",
      " |  \n",
      " |  ----------------------------------------------------------------------\n",
      " |  Data descriptors defined here:\n",
      " |  \n",
      " |  __dict__\n",
      " |      dictionary for instance variables (if defined)\n",
      " |  \n",
      " |  duration\n",
      " |  \n",
      " |  middle\n",
      " |  \n",
      " |  ----------------------------------------------------------------------\n",
      " |  Methods inherited from Segment:\n",
      " |  \n",
      " |  __getnewargs__(self)\n",
      " |      Return self as a plain tuple.  Used by copy and pickle.\n",
      " |  \n",
      " |  __getstate__(self)\n",
      " |      Exclude the OrderedDict from pickling\n",
      " |  \n",
      " |  _asdict(self)\n",
      " |      Return a new OrderedDict which maps field names to their values\n",
      " |  \n",
      " |  _replace(_self, **kwds)\n",
      " |      Return a new Segment object replacing specified fields with new values\n",
      " |  \n",
      " |  ----------------------------------------------------------------------\n",
      " |  Class methods inherited from Segment:\n",
      " |  \n",
      " |  _make(cls, iterable, new=<built-in method __new__ of type object>, len=<built-in function len>) from __builtin__.type\n",
      " |      Make a new Segment object from a sequence or iterable\n",
      " |  \n",
      " |  ----------------------------------------------------------------------\n",
      " |  Data descriptors inherited from Segment:\n",
      " |  \n",
      " |  end\n",
      " |      Alias for field number 1\n",
      " |  \n",
      " |  start\n",
      " |      Alias for field number 0\n",
      " |  \n",
      " |  ----------------------------------------------------------------------\n",
      " |  Data and other attributes inherited from Segment:\n",
      " |  \n",
      " |  _fields = ('start', 'end')\n",
      " |  \n",
      " |  ----------------------------------------------------------------------\n",
      " |  Methods inherited from __builtin__.tuple:\n",
      " |  \n",
      " |  __add__(...)\n",
      " |      x.__add__(y) <==> x+y\n",
      " |  \n",
      " |  __eq__(...)\n",
      " |      x.__eq__(y) <==> x==y\n",
      " |  \n",
      " |  __ge__(...)\n",
      " |      x.__ge__(y) <==> x>=y\n",
      " |  \n",
      " |  __getattribute__(...)\n",
      " |      x.__getattribute__('name') <==> x.name\n",
      " |  \n",
      " |  __getitem__(...)\n",
      " |      x.__getitem__(y) <==> x[y]\n",
      " |  \n",
      " |  __getslice__(...)\n",
      " |      x.__getslice__(i, j) <==> x[i:j]\n",
      " |      \n",
      " |      Use of negative indices is not supported.\n",
      " |  \n",
      " |  __gt__(...)\n",
      " |      x.__gt__(y) <==> x>y\n",
      " |  \n",
      " |  __hash__(...)\n",
      " |      x.__hash__() <==> hash(x)\n",
      " |  \n",
      " |  __le__(...)\n",
      " |      x.__le__(y) <==> x<=y\n",
      " |  \n",
      " |  __len__(...)\n",
      " |      x.__len__() <==> len(x)\n",
      " |  \n",
      " |  __lt__(...)\n",
      " |      x.__lt__(y) <==> x<y\n",
      " |  \n",
      " |  __mul__(...)\n",
      " |      x.__mul__(n) <==> x*n\n",
      " |  \n",
      " |  __ne__(...)\n",
      " |      x.__ne__(y) <==> x!=y\n",
      " |  \n",
      " |  __rmul__(...)\n",
      " |      x.__rmul__(n) <==> n*x\n",
      " |  \n",
      " |  __sizeof__(...)\n",
      " |      T.__sizeof__() -- size of T in memory, in bytes\n",
      " |  \n",
      " |  count(...)\n",
      " |      T.count(value) -> integer -- return number of occurrences of value\n",
      " |  \n",
      " |  index(...)\n",
      " |      T.index(value, [start, [stop]]) -> integer -- return first index of value.\n",
      " |      Raises ValueError if the value is not present.\n",
      "\n"
     ]
    }
   ],
   "source": [
    "help(Segment)"
   ]
  }
 ],
 "metadata": {
  "kernelspec": {
   "display_name": "Python 2",
   "language": "python",
   "name": "python2"
  },
  "language_info": {
   "codemirror_mode": {
    "name": "ipython",
    "version": 2
   },
   "file_extension": ".py",
   "mimetype": "text/x-python",
   "name": "python",
   "nbconvert_exporter": "python",
   "pygments_lexer": "ipython2",
   "version": "2.7.6"
  }
 },
 "nbformat": 4,
 "nbformat_minor": 0
}
